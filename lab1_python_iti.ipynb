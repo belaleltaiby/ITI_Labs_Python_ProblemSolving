{
 "cells": [
  {
   "cell_type": "code",
   "execution_count": 2,
   "id": "ef22065d-5ffe-470e-9ff5-6062cca438dd",
   "metadata": {},
   "outputs": [
    {
     "name": "stdout",
     "output_type": "stream",
     "text": [
      "Hello world!\n"
     ]
    }
   ],
   "source": [
    "msg = \"Hello world!\"\n",
    "print(msg)"
   ]
  },
  {
   "cell_type": "code",
   "execution_count": 2,
   "id": "66ec12e0-f2ee-4851-9cf4-2e4c16162356",
   "metadata": {},
   "outputs": [
    {
     "name": "stdin",
     "output_type": "stream",
     "text": [
      "enter a number:  5\n"
     ]
    },
    {
     "name": "stdout",
     "output_type": "stream",
     "text": [
      "5\n"
     ]
    }
   ],
   "source": [
    "fav_num = int(input(\"enter a number: \"))\n",
    "print(fav_num)"
   ]
  },
  {
   "cell_type": "code",
   "execution_count": 6,
   "id": "67d71bec-2a6d-4694-8766-7bb13b2178ab",
   "metadata": {},
   "outputs": [
    {
     "name": "stdout",
     "output_type": "stream",
     "text": [
      "523.3333333333334\n"
     ]
    }
   ],
   "source": [
    "radius = 5  #centimeters\n",
    "volume = 4/3 * 3.14 * (radius**3)  # cubic centimeters\n",
    "print(volume)"
   ]
  },
  {
   "cell_type": "code",
   "execution_count": 1,
   "id": "ac34c814-9618-487f-90af-2a53159fdee8",
   "metadata": {},
   "outputs": [
    {
     "name": "stdout",
     "output_type": "stream",
     "text": [
      "27 + 15 = 42\n",
      "27 - 15 = 12\n",
      "27 * 15 = 405\n",
      "27 / 15 = 1.8\n"
     ]
    }
   ],
   "source": [
    "x=27\n",
    "y=15\n",
    "add = x+y\n",
    "sub = x-y\n",
    "mul = x*y\n",
    "div = x/y\n",
    "\n",
    "print(f\"{x} + {y} = {add}\")\n",
    "print(f\"{x} - {y} = {sub}\")\n",
    "print(f\"{x} * {y} = {mul}\")\n",
    "print(f\"{x} / {y} = {div}\")"
   ]
  },
  {
   "cell_type": "code",
   "execution_count": 12,
   "id": "00528c3a-5265-418d-85c8-da79f40048cb",
   "metadata": {},
   "outputs": [
    {
     "name": "stdin",
     "output_type": "stream",
     "text": [
      "How many days?  1\n"
     ]
    },
    {
     "name": "stdout",
     "output_type": "stream",
     "text": [
      "Seconds in 1 days: 86400\n"
     ]
    }
   ],
   "source": [
    "days_num = int(input(\"How many days? \"))\n",
    "seconds = days_num * 24 * 60 * 60\n",
    "print(f\"Seconds in {days_num} days: {seconds}\")"
   ]
  },
  {
   "cell_type": "code",
   "execution_count": null,
   "id": "f1f1bec1-2d19-4e69-a2f1-cd829e12da41",
   "metadata": {},
   "outputs": [],
   "source": []
  }
 ],
 "metadata": {
  "kernelspec": {
   "display_name": "Python 3 (ipykernel)",
   "language": "python",
   "name": "python3"
  },
  "language_info": {
   "codemirror_mode": {
    "name": "ipython",
    "version": 3
   },
   "file_extension": ".py",
   "mimetype": "text/x-python",
   "name": "python",
   "nbconvert_exporter": "python",
   "pygments_lexer": "ipython3",
   "version": "3.11.7"
  }
 },
 "nbformat": 4,
 "nbformat_minor": 5
}
