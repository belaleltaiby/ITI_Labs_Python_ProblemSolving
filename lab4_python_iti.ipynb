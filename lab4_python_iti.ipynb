{
 "cells": [
  {
   "cell_type": "markdown",
   "id": "2239b18a-b7ff-4853-a90a-6782ad477896",
   "metadata": {},
   "source": [
    "# Warm-Up: Basic Operations"
   ]
  },
  {
   "cell_type": "code",
   "execution_count": 1,
   "id": "330145b8-e745-46bc-b7af-11eeff5af762",
   "metadata": {},
   "outputs": [],
   "source": [
    "# 1) Lists "
   ]
  },
  {
   "cell_type": "code",
   "execution_count": 24,
   "id": "033d9354-0bda-454d-ad84-bfb53f59a32c",
   "metadata": {},
   "outputs": [
    {
     "name": "stdout",
     "output_type": "stream",
     "text": [
      "1\n",
      "10\n",
      "[10, 9, 8, 7, 6, 6, 7, 8, 9]\n",
      "55\n"
     ]
    }
   ],
   "source": [
    "nums = [i for i in range(1,11)]\n",
    "print(nums[0])\n",
    "print(nums[-1])\n",
    "reverse_nms = nums.reverse()\n",
    "print(reverse_nums)\n",
    "print(sum(nums))"
   ]
  },
  {
   "cell_type": "code",
   "execution_count": 26,
   "id": "6f7f66c9-6a52-4610-a51a-c0ea42b6f2a9",
   "metadata": {},
   "outputs": [],
   "source": [
    "# 2) Dict"
   ]
  },
  {
   "cell_type": "code",
   "execution_count": 31,
   "id": "22de3763-9b32-4f3b-b712-f4d62272f0a1",
   "metadata": {},
   "outputs": [],
   "source": [
    "sqr = {1:1,2:4,3:9,4:16,5:25}"
   ]
  },
  {
   "cell_type": "code",
   "execution_count": 32,
   "id": "28f23710-c24c-4638-bd89-d38a458a8291",
   "metadata": {},
   "outputs": [
    {
     "name": "stdout",
     "output_type": "stream",
     "text": [
      "1 : 1\n",
      "2 : 4\n",
      "3 : 9\n",
      "4 : 16\n",
      "5 : 25\n"
     ]
    }
   ],
   "source": [
    "for key,value in sqr.items():\n",
    "    print(key,\":\",value)"
   ]
  },
  {
   "cell_type": "code",
   "execution_count": 33,
   "id": "3d43a8f4-aee6-44bc-b6e6-5efcf7210da1",
   "metadata": {},
   "outputs": [],
   "source": [
    "sqr[6]=36"
   ]
  },
  {
   "cell_type": "code",
   "execution_count": 100,
   "id": "c34e8c33-c17b-4c5e-af6c-46d5584ecb92",
   "metadata": {},
   "outputs": [
    {
     "name": "stdout",
     "output_type": "stream",
     "text": [
      "True\n",
      "there is no key named 4\n"
     ]
    }
   ],
   "source": [
    "valeu_4 = sqr.get(7,\"there is no key named 4\")\n",
    "if 4 in sqr:\n",
    "    print(\"True\")\n",
    "else:\n",
    "    print(\"False\")\n",
    "print(valeu_4)"
   ]
  },
  {
   "cell_type": "markdown",
   "id": "c76345f8-2708-416e-a42b-f496343d8161",
   "metadata": {},
   "source": [
    "# Problem-Solving: Real-World Scenarios"
   ]
  },
  {
   "cell_type": "markdown",
   "id": "d2ff2a06-cded-40ba-bb2f-72b389c8b72b",
   "metadata": {},
   "source": [
    "# 1. **Student Grades:**"
   ]
  },
  {
   "cell_type": "code",
   "execution_count": 50,
   "id": "7b058de8-b18b-43e3-bc22-7b8489afcd89",
   "metadata": {},
   "outputs": [
    {
     "name": "stdout",
     "output_type": "stream",
     "text": [
      "Ali : 6.6\n",
      "Salma : 7.0\n",
      "Hamada : 6.6\n",
      "Salma has the highest average grade with 7.0\n"
     ]
    }
   ],
   "source": [
    "student_grades = {\"Ali\":[10,5,6,3,9],\"Salma\":[10,3,7,7,8],\"Hamada\":[10,7,8,5,3]}\n",
    "\n",
    "greatest = 0 \n",
    "name = \"\"\n",
    "for key,value in student_grades.items():\n",
    "    avg_grade = sum(value)/len(value)\n",
    "    print(key,\":\", avg_grade )\n",
    "    if avg_grade > greatest:\n",
    "        greatest = avg_grade\n",
    "        name = key\n",
    "\n",
    "print(f\"{name} has the highest average grade with {greatest}\")"
   ]
  },
  {
   "cell_type": "markdown",
   "id": "d9cec487-29d5-42b3-a6ee-6571b1045457",
   "metadata": {},
   "source": [
    "# 2. **Shopping Cart:**"
   ]
  },
  {
   "cell_type": "code",
   "execution_count": 53,
   "id": "330b9225-d2d9-4d4d-8f08-adf8cccb037a",
   "metadata": {},
   "outputs": [
    {
     "name": "stdin",
     "output_type": "stream",
     "text": [
      "enter the product name:  can\n",
      "enter the product price:  10\n",
      "enter the product name:  milk\n",
      "enter the product price:  30\n",
      "enter the product name:  pizza\n",
      "enter the product price:  100\n"
     ]
    },
    {
     "name": "stdout",
     "output_type": "stream",
     "text": [
      "{'can': 10.0, 'milk': 30.0, 'pizza': 100.0}\n",
      "the total price is 140.0\n"
     ]
    }
   ],
   "source": [
    "shopping_cart = {}\n",
    "for i in range(3):\n",
    "    product_name = input(\"enter the product name: \")\n",
    "    product_price = float(input(\"enter the product price: \"))\n",
    "    shopping_cart[product_name] = product_price\n",
    "\n",
    "print(shopping_cart)\n",
    "total_price = 0\n",
    "for value in shopping_cart.values():\n",
    "    total_price += value\n",
    "print(f\"the total price is {total_price}\")"
   ]
  },
  {
   "cell_type": "markdown",
   "id": "c805d7bb-c865-4e2e-93aa-60944eec13eb",
   "metadata": {},
   "source": [
    "# 3. **Employee Database:**"
   ]
  },
  {
   "cell_type": "code",
   "execution_count": 60,
   "id": "b3a90405-9151-435a-a6b3-aba540a835e4",
   "metadata": {},
   "outputs": [
    {
     "name": "stdout",
     "output_type": "stream",
     "text": [
      "[{'name': 'Ali', 'age': 40, 'department': 'sales'}]\n"
     ]
    }
   ],
   "source": [
    "employees = [{\"name\":\"Ali\",\"age\":40,\"department\":\"sales\"},\n",
    "             {\"name\":\"Hamada\",\"age\":25,\"department\":\"Devops\"}\n",
    "             ,{\"name\":\"Salma\",\"age\":24,\"department\":\"marketing\"}]\n",
    "\n",
    "def filter_employees(Your_employees,department):\n",
    "    return [employee for employee in Your_employees if employee[\"department\"]==department]\n",
    "\n",
    "print(filter_employees(Your_employees=employees, department=\"sales\"))"
   ]
  },
  {
   "cell_type": "code",
   "execution_count": 61,
   "id": "964a9914-2022-4af2-a8aa-e40443e52204",
   "metadata": {},
   "outputs": [
    {
     "name": "stdout",
     "output_type": "stream",
     "text": [
      "29.666666666666668\n"
     ]
    }
   ],
   "source": [
    "total_ages = 0\n",
    "for emp in employees:\n",
    "    total_ages += emp[\"age\"]\n",
    "print(total_ages/len(employees))"
   ]
  },
  {
   "cell_type": "markdown",
   "id": "6ff3adad-0d17-49a1-b0e4-355e56444905",
   "metadata": {},
   "source": [
    "# Challenge Section"
   ]
  },
  {
   "cell_type": "markdown",
   "id": "2f044520-9e09-4d22-9c63-abfff45c1326",
   "metadata": {},
   "source": [
    "# 1. **Word Frequency Counter:**"
   ]
  },
  {
   "cell_type": "code",
   "execution_count": 72,
   "id": "95542548-84b6-4272-b15f-170fc7dfaedb",
   "metadata": {},
   "outputs": [
    {
     "name": "stdout",
     "output_type": "stream",
     "text": [
      "{'the': 4, 'quick': 1, 'brown': 1, 'fox': 2, 'jumps': 1, 'over': 1, 'lazy': 1, 'dog': 2, 'barked': 1, 'loudly': 1, 'but': 1, 'ran': 1, 'away': 1, 'swiftly': 1}\n"
     ]
    }
   ],
   "source": [
    "def word_freq(text):\n",
    "    cleaned_text = text.replace(\".\",\"\").replace(\",\",\"\").replace(\"?\",\"\").lower()\n",
    "    splitted_text = cleaned_text.split()\n",
    "    \n",
    "    word_counts = {}\n",
    "    \n",
    "    for word in splitted_text:\n",
    "        if word not in word_counts:\n",
    "            word_counts[word] = 1\n",
    "        else:\n",
    "            word_counts[word] +=1\n",
    "\n",
    "    print(word_counts)\n",
    "\n",
    "text = \"The quick brown fox jumps over the lazy dog. The dog barked loudly, but the fox ran away swiftly.\"\n",
    "word_freq(text)"
   ]
  },
  {
   "cell_type": "code",
   "execution_count": 114,
   "id": "93628cc8-7c69-4d73-9a44-d0287bd5db51",
   "metadata": {},
   "outputs": [
    {
     "name": "stdout",
     "output_type": "stream",
     "text": [
      "Counter({'the': 4, 'fox': 2, 'dog': 2, 'quick': 1, 'brown': 1, 'jumps': 1, 'over': 1, 'lazy': 1, 'barked': 1, 'loudly': 1, 'but': 1, 'ran': 1, 'away': 1, 'swiftly': 1})\n"
     ]
    }
   ],
   "source": [
    "from collections import Counter\n",
    "import string\n",
    "\n",
    "def word_freq(text):\n",
    "    # Clean and normalize the text\n",
    "    cleaned_text = text.translate(str.maketrans(\"\", \"\", string.punctuation)).lower()\n",
    "    # Split the text into words\n",
    "    splitted_text = cleaned_text.split()\n",
    "    # Count the frequency of each word\n",
    "    word_counts = Counter(splitted_text)\n",
    "    # Print the result\n",
    "    print(word_counts)\n",
    "\n",
    "# Example Usage\n",
    "word_freq(\"The quick brown fox jumps over the lazy dog. The dog barked loudly, but the fox ran away swiftly.\")\n"
   ]
  },
  {
   "cell_type": "markdown",
   "id": "9254e49a-c40a-4f5d-85ff-2c9af8cb04a3",
   "metadata": {},
   "source": [
    "# 2.Inventory Management:"
   ]
  },
  {
   "cell_type": "code",
   "execution_count": 101,
   "id": "4493e71b-7b30-449a-a7d6-45e5effee93e",
   "metadata": {},
   "outputs": [
    {
     "name": "stdout",
     "output_type": "stream",
     "text": [
      "{'milk': {'Price': 10, 'Quantity': 3}, 'pizza': {'Price': 47, 'Quantity': 6}}\n"
     ]
    }
   ],
   "source": [
    "inventory = {}\n",
    "def store_item(item_name,price,quantity):\n",
    "    inventory[item_name] = {\"Price\":price,\"Quantity\":quantity}\n",
    "store_item(\"milk\",10,3)\n",
    "store_item(\"pizza\",47,6)\n",
    "print(inventory)"
   ]
  },
  {
   "cell_type": "code",
   "execution_count": 104,
   "id": "8ab977fa-1257-49bf-813f-60850d8be9e3",
   "metadata": {},
   "outputs": [
    {
     "name": "stdout",
     "output_type": "stream",
     "text": [
      "{'milk': {'Price': 10, 'Quantity': 1}, 'pizza': {'Price': 47, 'Quantity': 2}}\n"
     ]
    }
   ],
   "source": [
    "def update_after_sale(your_inventory,item_name,quantity):\n",
    "    if your_inventory[item_name.lower()][\"Quantity\"] > quantity:\n",
    "        your_inventory[item_name.lower()][\"Quantity\"] -= quantity\n",
    "\n",
    "update_after_sale(inventory,\"milk\",21)\n",
    "update_after_sale(inventory,\"pizza\",4)\n",
    "print(inventory)\n",
    "    "
   ]
  },
  {
   "cell_type": "markdown",
   "id": "4a73471d-289a-4684-b12a-e3332a1f7419",
   "metadata": {},
   "source": [
    "# 3.Nested Data Manipulation:"
   ]
  },
  {
   "cell_type": "code",
   "execution_count": 105,
   "id": "e565e7c7-455c-4c3c-9384-e7a853f4a9de",
   "metadata": {},
   "outputs": [],
   "source": [
    "library = {\n",
    "    \"Science Fiction\": [],\n",
    "    \"Fantasy\": [],\n",
    "    \"Mystery\": [],\n",
    "}"
   ]
  },
  {
   "cell_type": "code",
   "execution_count": 107,
   "id": "9b4c4a2a-2a0d-45fa-97c8-1e390766faee",
   "metadata": {},
   "outputs": [
    {
     "name": "stdout",
     "output_type": "stream",
     "text": [
      "{'Science Fiction': [], 'Fantasy': ['little finger', '3alam semsem', 'little finger', '3alam semsem'], 'Mystery': []}\n"
     ]
    }
   ],
   "source": [
    "def Add_new_book(your_library, genre,book_name):\n",
    "    your_library[genre].append(book_name)\n",
    "\n",
    "Add_new_book(library,\"Fantasy\",\"little finger\")\n",
    "Add_new_book(library,\"Fantasy\",\"3alam semsem\")\n",
    "\n",
    "print(library)"
   ]
  },
  {
   "cell_type": "code",
   "execution_count": 94,
   "id": "7b2934fc-f884-4c87-9515-409b9d578959",
   "metadata": {},
   "outputs": [
    {
     "name": "stdout",
     "output_type": "stream",
     "text": [
      "['little finger', '3alam semsem']\n"
     ]
    }
   ],
   "source": [
    "def genre_books(your_library,genre):\n",
    "    return your_library[genre]\n",
    "\n",
    "print(genre_books(library,\"Fantasy\"))"
   ]
  },
  {
   "cell_type": "markdown",
   "id": "b954d6c7-0075-4380-bb8c-c09035505fa0",
   "metadata": {},
   "source": [
    "# 4.Anagram Checker:"
   ]
  },
  {
   "cell_type": "code",
   "execution_count": 97,
   "id": "5a25b116-f3da-42a7-b50d-ed7adcba66eb",
   "metadata": {},
   "outputs": [
    {
     "name": "stdout",
     "output_type": "stream",
     "text": [
      "True\n"
     ]
    }
   ],
   "source": [
    "def Is_Anagram(word_1,word_2):\n",
    "    if sorted(list(word_1.lower())) == sorted(list(word_2.lower())):\n",
    "        print(\"True\")\n",
    "    else:\n",
    "        print(\"False\")\n",
    "Is_Anagram(\"silent\",\"listen\")"
   ]
  },
  {
   "cell_type": "code",
   "execution_count": 115,
   "id": "1e14dbfb-2228-45c2-8582-e722129e0014",
   "metadata": {},
   "outputs": [
    {
     "name": "stdout",
     "output_type": "stream",
     "text": [
      "True\n",
      "False\n"
     ]
    }
   ],
   "source": [
    "from collections import Counter\n",
    "\n",
    "def is_anagram(word_1, word_2):\n",
    "    # Compare character counts\n",
    "    if Counter(word_1.lower()) == Counter(word_2.lower()):\n",
    "        print(\"True\")\n",
    "    else:\n",
    "        print(\"False\")\n",
    "\n",
    "# Example Usage\n",
    "is_anagram(\"listen\", \"silent\")  # True\n",
    "is_anagram(\"hello\", \"world\")    # False\n"
   ]
  },
  {
   "cell_type": "markdown",
   "id": "474ce6ce-963a-4c55-9948-5da6d996847c",
   "metadata": {},
   "source": [
    "# 5.Two-Sum Problem:"
   ]
  },
  {
   "cell_type": "code",
   "execution_count": 99,
   "id": "0aacb520-1a47-4230-935e-54593568f9ed",
   "metadata": {},
   "outputs": [
    {
     "name": "stdout",
     "output_type": "stream",
     "text": [
      "[0, 3]\n"
     ]
    }
   ],
   "source": [
    "def Two_Sum(numbers, target):\n",
    "    nums_indices = {}\n",
    "    for i,num in enumerate(numbers):\n",
    "        complement = target - num\n",
    "        if complement in nums_indices:\n",
    "            return [nums_indices[complement],i]\n",
    "        nums_indices[num] = i\n",
    "\n",
    "print(Two_Sum([2,11,22,7],9))\n",
    "        "
   ]
  },
  {
   "cell_type": "code",
   "execution_count": null,
   "id": "8a152507-4333-4eb9-8339-b63d33744ebb",
   "metadata": {},
   "outputs": [],
   "source": []
  }
 ],
 "metadata": {
  "kernelspec": {
   "display_name": "Python 3 (ipykernel)",
   "language": "python",
   "name": "python3"
  },
  "language_info": {
   "codemirror_mode": {
    "name": "ipython",
    "version": 3
   },
   "file_extension": ".py",
   "mimetype": "text/x-python",
   "name": "python",
   "nbconvert_exporter": "python",
   "pygments_lexer": "ipython3",
   "version": "3.11.7"
  }
 },
 "nbformat": 4,
 "nbformat_minor": 5
}
