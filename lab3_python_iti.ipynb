{
 "cells": [
  {
   "cell_type": "markdown",
   "id": "ebdcdb1d-e4bc-4729-9881-9f3307b35344",
   "metadata": {},
   "source": [
    "# 1) Triangle"
   ]
  },
  {
   "cell_type": "code",
   "execution_count": 1,
   "id": "76de1de6-cdab-4495-9952-5a431dd9daf4",
   "metadata": {},
   "outputs": [],
   "source": [
    "def triangle(width):\n",
    "    for i in range(width):\n",
    "        print(\"#\"*(i+1))\n"
   ]
  },
  {
   "cell_type": "code",
   "execution_count": 3,
   "id": "28c4852e-b426-4ba6-946d-dd4e78e95abd",
   "metadata": {},
   "outputs": [
    {
     "name": "stdout",
     "output_type": "stream",
     "text": [
      "#\n",
      "##\n",
      "###\n",
      "####\n",
      "#####\n",
      "######\n",
      "#######\n",
      "########\n",
      "#########\n"
     ]
    }
   ],
   "source": [
    "triangle(9)"
   ]
  },
  {
   "cell_type": "markdown",
   "id": "e4a02b9a-7a40-4fa2-b452-dc0387fda943",
   "metadata": {},
   "source": [
    "# 2) Greatest number"
   ]
  },
  {
   "cell_type": "code",
   "execution_count": 9,
   "id": "d65074f5-2f6c-4eb0-8e09-340999e4a20b",
   "metadata": {},
   "outputs": [],
   "source": [
    "def greatest_number(num1,num2,num3):\n",
    "    if num1>=num2 and num1>=num3:\n",
    "        return num1\n",
    "    elif num2>=num1 and num2>=num3:\n",
    "        return num2\n",
    "    else: \n",
    "        return num3\n"
   ]
  },
  {
   "cell_type": "code",
   "execution_count": 28,
   "id": "c266deec-23d1-4783-a885-58a72ca0d270",
   "metadata": {},
   "outputs": [],
   "source": [
    "def greatest_number_2(num1, num2, num3):\n",
    "    greatest = num1  \n",
    "    if num2 > greatest:\n",
    "        greatest = num2\n",
    "    if num3 > greatest:\n",
    "        greatest = num3\n",
    "    return greatest\n"
   ]
  },
  {
   "cell_type": "markdown",
   "id": "04ba264c-5de9-41ae-aa61-d2d75de71fb7",
   "metadata": {},
   "source": [
    "# 3) Sum series "
   ]
  },
  {
   "cell_type": "code",
   "execution_count": 15,
   "id": "ca1c27b0-b7aa-444c-8882-d585119744f8",
   "metadata": {},
   "outputs": [
    {
     "name": "stdout",
     "output_type": "stream",
     "text": [
      "3\n"
     ]
    }
   ],
   "source": [
    "def sum_series(n):\n",
    "    result = 0\n",
    "    for i in range(1,n+1):\n",
    "        if i %2 == 0:\n",
    "            i *=-1\n",
    "        result += i \n",
    "        \n",
    "    print(result)\n",
    "sum_series(5)"
   ]
  },
  {
   "cell_type": "markdown",
   "id": "7a81cda6-1070-4db7-9eef-59633d4f65fb",
   "metadata": {},
   "source": [
    "# 4)  Factorial"
   ]
  },
  {
   "cell_type": "code",
   "execution_count": 20,
   "id": "7a5a3aaf-41fa-453e-a7ca-41303dafeb33",
   "metadata": {},
   "outputs": [
    {
     "name": "stdout",
     "output_type": "stream",
     "text": [
      "24\n"
     ]
    }
   ],
   "source": [
    "def factorial(n):\n",
    "    fac = 1\n",
    "    while n!=0:\n",
    "        fac *= n\n",
    "        n -=1\n",
    "    return fac\n",
    "\n",
    "print(factorial(4))"
   ]
  },
  {
   "cell_type": "markdown",
   "id": "a8a1fa08-66cc-48fe-862c-2c649e81ccd2",
   "metadata": {},
   "source": [
    "# 5) palindrome "
   ]
  },
  {
   "cell_type": "code",
   "execution_count": 27,
   "id": "1dce4cb5-27d7-4f8a-a8fd-21cb9f211224",
   "metadata": {},
   "outputs": [
    {
     "name": "stdout",
     "output_type": "stream",
     "text": [
      "True\n"
     ]
    }
   ],
   "source": [
    "def is_palindrome(word):\n",
    "    reversed_str = \"\"\n",
    "    for char in word:\n",
    "        reversed_str = char + reversed_str\n",
    "\n",
    "    if reversed_str == word:\n",
    "        return True\n",
    "    else:\n",
    "        return False\n",
    "print(is_palindrome(\"lfafl\"))"
   ]
  },
  {
   "cell_type": "code",
   "execution_count": null,
   "id": "4daab072-0df1-4f10-b615-7b315b88baf5",
   "metadata": {},
   "outputs": [],
   "source": []
  }
 ],
 "metadata": {
  "kernelspec": {
   "display_name": "Python 3 (ipykernel)",
   "language": "python",
   "name": "python3"
  },
  "language_info": {
   "codemirror_mode": {
    "name": "ipython",
    "version": 3
   },
   "file_extension": ".py",
   "mimetype": "text/x-python",
   "name": "python",
   "nbconvert_exporter": "python",
   "pygments_lexer": "ipython3",
   "version": "3.11.7"
  }
 },
 "nbformat": 4,
 "nbformat_minor": 5
}
