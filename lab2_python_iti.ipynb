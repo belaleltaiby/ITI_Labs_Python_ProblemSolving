{
 "cells": [
  {
   "cell_type": "markdown",
   "id": "a5a77509-90b3-4570-8f99-fa4f5ea92aec",
   "metadata": {},
   "source": [
    "# 1) calculator"
   ]
  },
  {
   "cell_type": "code",
   "execution_count": 1,
   "id": "c68556a0-fd54-4571-9fd0-17f933f39be6",
   "metadata": {},
   "outputs": [
    {
     "name": "stdin",
     "output_type": "stream",
     "text": [
      "Number 1:  1\n",
      "Number 2:  2\n",
      "Operation:  add\n"
     ]
    },
    {
     "name": "stdout",
     "output_type": "stream",
     "text": [
      "1.0 + 2.0 = 3.0\n"
     ]
    }
   ],
   "source": [
    "number1 = float(input(\"Number 1: \"))\n",
    "number2 = float(input(\"Number 2: \"))\n",
    "operation = input(\"Operation: \")\n",
    "\n",
    "if operation == \"add\":\n",
    "    print(f\"{number1} + {number2} =\",number1+number2)\n",
    "elif operation == \"sub\":\n",
    "    print(f\"{number1} - {number2} =\",number1-number2)\n",
    "elif operation == \"mul\":\n",
    "    print(f\"{number1} * {number2} =\",number1*number2)\n",
    "elif operation == \"div\":\n",
    "    print(f\"{number1} / {number2} =\",number1/number2)\n"
   ]
  },
  {
   "cell_type": "markdown",
   "id": "23fbd14e-01a0-4a01-a011-bf71386f8f3a",
   "metadata": {},
   "source": [
    "# 2) Daily wages"
   ]
  },
  {
   "cell_type": "code",
   "execution_count": 5,
   "id": "f35bfffd-f11d-4c79-8712-7273437530fe",
   "metadata": {},
   "outputs": [
    {
     "name": "stdin",
     "output_type": "stream",
     "text": [
      "Hourly wage:  3\n",
      "Hours worked:  3\n",
      "Day of the week:  sunday\n"
     ]
    },
    {
     "name": "stdout",
     "output_type": "stream",
     "text": [
      "Daily wages: 18.0 euros\n"
     ]
    }
   ],
   "source": [
    "hourly_wage = float(input(\"Hourly wage: \"))\n",
    "hours_worked = float(input(\"Hours worked: \"))\n",
    "day = input(\"Day of the week: \").lower()\n",
    "daily_wages = 0\n",
    "if day != \"sunday\":\n",
    "    daily_wages =  hourly_wage * hours_worked\n",
    "else:\n",
    "    daily_wages = hourly_wage * hours_worked * 2\n",
    "\n",
    "print(f\"Daily wages: {daily_wages} euros\")"
   ]
  },
  {
   "cell_type": "markdown",
   "id": "6f4997a4-456c-43e2-8eee-16999a98efb7",
   "metadata": {},
   "source": [
    "# 3) Loyalty bonus"
   ]
  },
  {
   "cell_type": "code",
   "execution_count": 5,
   "id": "5b481e07-320f-498c-a417-7ed83c89f436",
   "metadata": {},
   "outputs": [
    {
     "name": "stdin",
     "output_type": "stream",
     "text": [
      "How many points are on your card?  100\n"
     ]
    },
    {
     "name": "stdout",
     "output_type": "stream",
     "text": [
      "Your bonus is 15 %\n",
      "You now have 114.99999999999999 points\n"
     ]
    }
   ],
   "source": [
    "# Fix the program\n",
    "points = int(input(\"How many points are on your card? \"))\n",
    "if points < 100:\n",
    "    modified_points =points * 1.1\n",
    "    print(\"Your bonus is 10 %\")\n",
    "\n",
    "if points >= 100:\n",
    "    modified_points = points * 1.15\n",
    "    print(\"Your bonus is 15 %\")\n",
    "\n",
    "print(\"You now have\", modified_points, \"points\")"
   ]
  },
  {
   "cell_type": "markdown",
   "id": "f9cb1204-c5f9-4963-80b1-29afea121c1b",
   "metadata": {},
   "source": [
    "# 4) FizzBuzz"
   ]
  },
  {
   "cell_type": "code",
   "execution_count": 12,
   "id": "7c16dee4-5844-47b7-9d28-d9eedbca63c9",
   "metadata": {},
   "outputs": [
    {
     "name": "stdin",
     "output_type": "stream",
     "text": [
      "Number:  5\n"
     ]
    },
    {
     "name": "stdout",
     "output_type": "stream",
     "text": [
      "Buzz\n"
     ]
    }
   ],
   "source": [
    "num = float(input(\"Number: \"))\n",
    "if (num % 3 == 0) and (num % 5 == 0):\n",
    "    print(\"FizzBuzz\")\n",
    "elif num % 5 == 0 :\n",
    "    print(\"Buzz\")\n",
    "elif num % 3 == 0 :\n",
    "    print(\"Fizz\")"
   ]
  },
  {
   "cell_type": "markdown",
   "id": "2d581c37-0b1e-482e-8eb9-4145463c33eb",
   "metadata": {},
   "source": [
    "# 5) PIN and number of attempts"
   ]
  },
  {
   "cell_type": "code",
   "execution_count": 8,
   "id": "285cfde3-4c81-428d-89a0-88bb7accd2bb",
   "metadata": {},
   "outputs": [
    {
     "name": "stdin",
     "output_type": "stream",
     "text": [
      "PIN:  555\n"
     ]
    },
    {
     "name": "stdout",
     "output_type": "stream",
     "text": [
      "Wrong\n"
     ]
    },
    {
     "name": "stdin",
     "output_type": "stream",
     "text": [
      "PIN:  55\n"
     ]
    },
    {
     "name": "stdout",
     "output_type": "stream",
     "text": [
      "Wrong\n"
     ]
    },
    {
     "name": "stdin",
     "output_type": "stream",
     "text": [
      "PIN:  4321\n"
     ]
    },
    {
     "name": "stdout",
     "output_type": "stream",
     "text": [
      "Correct! It took you 3 attempts\n"
     ]
    }
   ],
   "source": [
    "PIN = int(input(\"PIN: \"))\n",
    "attempts = 0\n",
    "flag = True\n",
    "while flag:\n",
    "    if PIN == 4321:\n",
    "        if attempts == 0:\n",
    "            print(\"Correct! It only took you one single attempt!\")\n",
    "        else:\n",
    "            print(f\"Correct! It took you {attempts+1} attempts\")\n",
    "            flag = False\n",
    "        break\n",
    "    else:\n",
    "        print(\"Wrong\")\n",
    "        attempts += 1\n",
    "        PIN = int(input(\"PIN: \"))"
   ]
  },
  {
   "cell_type": "markdown",
   "id": "c1d389b6-94c3-4919-9a69-97b7906d925a",
   "metadata": {},
   "source": [
    "# 6) Display numbers from -10 to -1"
   ]
  },
  {
   "cell_type": "code",
   "execution_count": 2,
   "id": "3e89991b-206e-46e2-bf9d-51adb12749a9",
   "metadata": {},
   "outputs": [
    {
     "name": "stdout",
     "output_type": "stream",
     "text": [
      "-10\n",
      "-9\n",
      "-8\n",
      "-7\n",
      "-6\n",
      "-5\n",
      "-4\n",
      "-3\n",
      "-2\n",
      "-1\n"
     ]
    }
   ],
   "source": [
    "for i in range(-10,0,1):\n",
    "    print(i)"
   ]
  },
  {
   "cell_type": "markdown",
   "id": "a7cf746f-a89f-44ca-ac05-f80a7f66fa1d",
   "metadata": {},
   "source": [
    "# 7) Bonus: Reverse integer number"
   ]
  },
  {
   "cell_type": "code",
   "execution_count": 3,
   "id": "fd134e75-f173-4d18-88f6-bdd2b08387ba",
   "metadata": {},
   "outputs": [
    {
     "name": "stdin",
     "output_type": "stream",
     "text": [
      "Number:  852369\n"
     ]
    },
    {
     "name": "stdout",
     "output_type": "stream",
     "text": [
      "963258"
     ]
    }
   ],
   "source": [
    "num = int(input(\"Number: \"))\n",
    "while num != 0 :\n",
    "    print(num%10,end=\"\")\n",
    "    num = num // 10\n"
   ]
  },
  {
   "cell_type": "code",
   "execution_count": null,
   "id": "d18a7a33-b2d4-4ce5-8709-2de783ff28cf",
   "metadata": {},
   "outputs": [],
   "source": []
  }
 ],
 "metadata": {
  "kernelspec": {
   "display_name": "Python 3 (ipykernel)",
   "language": "python",
   "name": "python3"
  },
  "language_info": {
   "codemirror_mode": {
    "name": "ipython",
    "version": 3
   },
   "file_extension": ".py",
   "mimetype": "text/x-python",
   "name": "python",
   "nbconvert_exporter": "python",
   "pygments_lexer": "ipython3",
   "version": "3.11.7"
  }
 },
 "nbformat": 4,
 "nbformat_minor": 5
}
