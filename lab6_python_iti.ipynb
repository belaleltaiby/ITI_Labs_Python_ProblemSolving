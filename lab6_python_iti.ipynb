{
 "cells": [
  {
   "cell_type": "markdown",
   "id": "6a78dc42-d145-4a63-be8e-47b3a714e189",
   "metadata": {},
   "source": [
    "# 1) Pagination Class with OOP"
   ]
  },
  {
   "cell_type": "code",
   "execution_count": 22,
   "id": "bb3c989c-7fe2-41a6-8f44-2e5011564861",
   "metadata": {},
   "outputs": [],
   "source": [
    "import math\n",
    "class pagination:\n",
    "    def __init__(self,items=[],pageSize=0):\n",
    "        self.items = items\n",
    "        self.pageSize = int(pageSize)\n",
    "        self.totalPages = math.ceil(len(items) / int(pageSize))\n",
    "        self.currentPage = 1\n",
    "        \n",
    "    def getVisibleItems(self):\n",
    "        if len(self.items) == 0:\n",
    "            print(\"You have no items!\")\n",
    "        else:\n",
    "            print(self.items[(self.currentPage-1)*self.pageSize:(self.currentPage-1)*self.pageSize+self.pageSize])\n",
    "            #print(self.items[self.currentPage])\n",
    "\n",
    "    def prevPage(self):\n",
    "        if self.currentPage == 1:\n",
    "            pass\n",
    "        elif self.currentPage > 1:\n",
    "            self.currentPage -= 1\n",
    "        return self\n",
    "\n",
    "    def nextPage(self):\n",
    "        if self.currentPage < len(self.items):\n",
    "            self.currentPage += 1\n",
    "        else:\n",
    "            print(\"You are in the last page\")\n",
    "        return self\n",
    "\n",
    "    def firstPage(self):\n",
    "        if len(self.items) == 0:\n",
    "            print(\"You have no pages!\")\n",
    "        else:\n",
    "            self.currentPage = 1\n",
    "            return self.currentPage\n",
    "\n",
    "\n",
    "    def lastPage(self):\n",
    "        if len(self.items) == 0:\n",
    "            print(\"You have no pages!\")\n",
    "        else:\n",
    "            self.currentPage = self.totalPages\n",
    "\n",
    "\n",
    "    def goTopage(self,pageNumber):\n",
    "        if len(self.items) == 0:\n",
    "            print(\"You have no pages!\")\n",
    "        elif pageNumber <= 0 :\n",
    "           self.currentPage = 1\n",
    "        elif pageNumber > 0 and pageNumber < (len(self.items)+1):\n",
    "            self.currentPage = pageNumber\n",
    "        elif pageNumber > (len(self.items)+1) :\n",
    "            self.currentPage = len(self.items)\n",
    "        else:\n",
    "            print(\"Please enter a valid integer page number!\")\n",
    "        \n",
    "        return self\n",
    "            \n",
    "            \n",
    "        "
   ]
  },
  {
   "cell_type": "code",
   "execution_count": 23,
   "id": "73fa6871-227d-43bb-836e-5e5c9ee7c8eb",
   "metadata": {},
   "outputs": [
    {
     "name": "stdout",
     "output_type": "stream",
     "text": [
      "['a', 'b', 'c', 'd', 'e', 'f', 'g', 'h', 'i', 'j', 'k', 'l', 'm', 'n', 'o', 'p', 'q', 'r', 's', 't', 'u', 'v', 'w', 'x', 'y', 'z']\n"
     ]
    }
   ],
   "source": [
    "import string\n",
    "\n",
    "alphabet_list = list(string.ascii_lowercase)\n",
    "print(alphabet_list)\n"
   ]
  },
  {
   "cell_type": "code",
   "execution_count": 24,
   "id": "b86e02c4-73b5-4083-afbb-2b7e2c3c1bd2",
   "metadata": {},
   "outputs": [],
   "source": [
    "p = pagination(alphabet_list,4)"
   ]
  },
  {
   "cell_type": "code",
   "execution_count": 25,
   "id": "632f2682-200a-414f-862f-9f163bf689a0",
   "metadata": {},
   "outputs": [
    {
     "name": "stdout",
     "output_type": "stream",
     "text": [
      "['a', 'b', 'c', 'd']\n"
     ]
    }
   ],
   "source": [
    "p.getVisibleItems()"
   ]
  },
  {
   "cell_type": "code",
   "execution_count": 26,
   "id": "a0f624e3-170b-4507-90e5-6d090a46d000",
   "metadata": {},
   "outputs": [
    {
     "data": {
      "text/plain": [
       "<__main__.pagination at 0x203a760fe10>"
      ]
     },
     "execution_count": 26,
     "metadata": {},
     "output_type": "execute_result"
    }
   ],
   "source": [
    "p.nextPage()"
   ]
  },
  {
   "cell_type": "code",
   "execution_count": 27,
   "id": "bdc8c7ff-e04b-4c28-ba1a-3454a95e99f9",
   "metadata": {},
   "outputs": [
    {
     "name": "stdout",
     "output_type": "stream",
     "text": [
      "['e', 'f', 'g', 'h']\n"
     ]
    }
   ],
   "source": [
    "p.getVisibleItems()"
   ]
  },
  {
   "cell_type": "code",
   "execution_count": 28,
   "id": "86abf29d-3129-4522-ae10-8dfdf29523eb",
   "metadata": {},
   "outputs": [
    {
     "data": {
      "text/plain": [
       "<__main__.pagination at 0x203a760fe10>"
      ]
     },
     "execution_count": 28,
     "metadata": {},
     "output_type": "execute_result"
    }
   ],
   "source": [
    "p.nextPage().nextPage()"
   ]
  },
  {
   "cell_type": "code",
   "execution_count": 29,
   "id": "cfb8e9a5-a6fe-41d8-891c-685edbe5edab",
   "metadata": {},
   "outputs": [
    {
     "name": "stdout",
     "output_type": "stream",
     "text": [
      "['m', 'n', 'o', 'p']\n"
     ]
    }
   ],
   "source": [
    "p.getVisibleItems()"
   ]
  },
  {
   "cell_type": "code",
   "execution_count": 30,
   "id": "fc65a4fc-fa38-4365-9e9d-cf56d041b192",
   "metadata": {},
   "outputs": [],
   "source": [
    "p.lastPage()"
   ]
  },
  {
   "cell_type": "code",
   "execution_count": 31,
   "id": "ff05ec8b-5763-49d4-9786-ba5c1259d911",
   "metadata": {},
   "outputs": [
    {
     "name": "stdout",
     "output_type": "stream",
     "text": [
      "['y', 'z']\n"
     ]
    }
   ],
   "source": [
    "p.getVisibleItems()"
   ]
  },
  {
   "cell_type": "code",
   "execution_count": 32,
   "id": "586bbd62-0436-42fd-b7e5-c3c52b643b72",
   "metadata": {},
   "outputs": [
    {
     "data": {
      "text/plain": [
       "7"
      ]
     },
     "execution_count": 32,
     "metadata": {},
     "output_type": "execute_result"
    }
   ],
   "source": [
    "p.currentPage"
   ]
  },
  {
   "cell_type": "code",
   "execution_count": 33,
   "id": "d8be1f53-0831-4912-9807-2ccd0391a8ff",
   "metadata": {},
   "outputs": [
    {
     "data": {
      "text/plain": [
       "<__main__.pagination at 0x203a760fe10>"
      ]
     },
     "execution_count": 33,
     "metadata": {},
     "output_type": "execute_result"
    }
   ],
   "source": [
    "p.goTopage(6)"
   ]
  },
  {
   "cell_type": "code",
   "execution_count": 34,
   "id": "2834df30-d063-45bc-8c93-b63080503943",
   "metadata": {},
   "outputs": [
    {
     "name": "stdout",
     "output_type": "stream",
     "text": [
      "['u', 'v', 'w', 'x']\n"
     ]
    }
   ],
   "source": [
    "p.getVisibleItems()"
   ]
  },
  {
   "cell_type": "markdown",
   "id": "59b72004-dac3-483d-b2d3-08a730c4f980",
   "metadata": {},
   "source": [
    "# 2) Coffee Shop\r"
   ]
  },
  {
   "cell_type": "code",
   "execution_count": 129,
   "id": "2da34677-9a5c-4987-8a74-5510a004f80d",
   "metadata": {},
   "outputs": [],
   "source": [
    "class CoffeeShop:\n",
    "    def __init__(self,name,menu,orders=[]):\n",
    "        self.name = name\n",
    "        self.menu = menu  # menu =[{\"name\":\"coffee\",\"type\":\"drink\",\"price\":20},{}]\n",
    "        self.orders = orders\n",
    "\n",
    "    def add_order(self,item):\n",
    "        if item in [list(d.values())[0] for d in self.menu if d]:\n",
    "            self.orders.append(item)\n",
    "        else:\n",
    "            print(\"This item is currently unavailable!\")\n",
    "\n",
    "    def fulfill_order(self):\n",
    "        if self.orders == []:\n",
    "            print( \"All orders have been fulfilled!\")\n",
    "        else:\n",
    "            fulfilled_order = self.orders.pop(0)\n",
    "            print(f\"Order fulfilled: {fulfilled_order}\")\n",
    "                \n",
    "        \n",
    "    def list_orders(self):\n",
    "        return self.orders\n",
    "\n",
    "    def due_amount(self):\n",
    "        total_amount=0\n",
    "        for ordered_item in self.orders:\n",
    "            total_amount += float(next((item[\"price\"] for item in self.menu if item[\"name\"] == ordered_item), 0))\n",
    "    \n",
    "        return total_amount\n",
    "\n",
    "    def cheapest_item(self):\n",
    "        cheapest = self.menu[0]\n",
    "        for dict in self.menu:\n",
    "            if dict[\"price\"] < cheapest[\"price\"]:\n",
    "                cheapest = dict\n",
    "        \n",
    "        return cheapest[\"name\"]\n",
    "        \n",
    "        #return min([item[\"price\"] for item in self.menu])  # return the lowest price in menue\n",
    "\n",
    "        \"\"\"  chatgpt solution using min() and key parameter\n",
    "        # Find the item with the lowest price\n",
    "        lowest_price_item = min(menu, key=lambda item: item[\"price\"])\n",
    "\n",
    "        # Return the name of the item\n",
    "        print(lowest_price_item[\"name\"])  # Output: Tea\n",
    "        \"\"\"\n",
    "    def drinks_only(self):\n",
    "        return [item[\"name\"] for item in self.menu if item[\"type\"]==\"drink\"]\n",
    "\n",
    "    def food_only(self):\n",
    "        return [item[\"name\"] for item in self.menu if item[\"type\"]==\"food\"]"
   ]
  },
  {
   "cell_type": "code",
   "execution_count": 130,
   "id": "46f04742-6ecd-404e-bd45-9144ef04fcdc",
   "metadata": {},
   "outputs": [],
   "source": [
    "menu = [\n",
    "    {\"name\": \"Coffee\", \"type\": \"drink\", \"price\": 20},\n",
    "    {\"name\": \"Tea\", \"type\": \"drink\", \"price\": 15},\n",
    "    {\"name\": \"Burger\", \"type\": \"food\", \"price\": 50},\n",
    "    {\"name\": \"Pizza\", \"type\": \"food\", \"price\": 100},\n",
    "    {\"name\": \"Ice Cream\", \"type\": \"dessert\", \"price\": 30},\n",
    "    {\"name\": \"Juice\", \"type\": \"drink\", \"price\": 25}\n",
    "]\n",
    "\n",
    "coffee1 = CoffeeShop(\"OnTheRun\",menu)"
   ]
  },
  {
   "cell_type": "code",
   "execution_count": 131,
   "id": "163f3f4c-f753-4e86-b1e8-5e9263827a02",
   "metadata": {},
   "outputs": [],
   "source": [
    "coffee1.add_order(\"Coffee\")"
   ]
  },
  {
   "cell_type": "code",
   "execution_count": 132,
   "id": "fc88694d-9137-4464-814c-07d1cfba32c9",
   "metadata": {},
   "outputs": [
    {
     "data": {
      "text/plain": [
       "['Coffee']"
      ]
     },
     "execution_count": 132,
     "metadata": {},
     "output_type": "execute_result"
    }
   ],
   "source": [
    "coffee1.orders"
   ]
  },
  {
   "cell_type": "code",
   "execution_count": 133,
   "id": "97624bf9-b69f-4b04-a3a2-7e65a93d7751",
   "metadata": {},
   "outputs": [
    {
     "name": "stdout",
     "output_type": "stream",
     "text": [
      "This item is currently unavailable!\n"
     ]
    }
   ],
   "source": [
    "coffee1.add_order(\"halo\")"
   ]
  },
  {
   "cell_type": "code",
   "execution_count": 134,
   "id": "6434454e-5868-440d-ac99-50b4154ce7b8",
   "metadata": {},
   "outputs": [],
   "source": [
    "coffee1.add_order(\"Tea\")"
   ]
  },
  {
   "cell_type": "code",
   "execution_count": 135,
   "id": "6147d98f-607b-46b3-a355-f00ead0452b6",
   "metadata": {},
   "outputs": [
    {
     "data": {
      "text/plain": [
       "['Coffee', 'Tea']"
      ]
     },
     "execution_count": 135,
     "metadata": {},
     "output_type": "execute_result"
    }
   ],
   "source": [
    "coffee1.orders"
   ]
  },
  {
   "cell_type": "code",
   "execution_count": 136,
   "id": "f15d51f8-e3ce-463d-8572-26602569f691",
   "metadata": {},
   "outputs": [],
   "source": [
    "coffee1.add_order(\"Pizza\")"
   ]
  },
  {
   "cell_type": "code",
   "execution_count": 137,
   "id": "acbba30f-0ab9-48fc-8f58-1d4097528bd1",
   "metadata": {},
   "outputs": [
    {
     "data": {
      "text/plain": [
       "['Coffee', 'Tea', 'Pizza']"
      ]
     },
     "execution_count": 137,
     "metadata": {},
     "output_type": "execute_result"
    }
   ],
   "source": [
    "coffee1.orders"
   ]
  },
  {
   "cell_type": "code",
   "execution_count": 138,
   "id": "91c4d0da-7af6-49ef-8ec0-775db7d8cc9e",
   "metadata": {},
   "outputs": [
    {
     "data": {
      "text/plain": [
       "['Coffee', 'Tea', 'Pizza']"
      ]
     },
     "execution_count": 138,
     "metadata": {},
     "output_type": "execute_result"
    }
   ],
   "source": [
    "coffee1.list_orders()"
   ]
  },
  {
   "cell_type": "code",
   "execution_count": 139,
   "id": "6ed0acd9-9e8f-49d1-819d-122c0fce6c3c",
   "metadata": {},
   "outputs": [
    {
     "data": {
      "text/plain": [
       "'Tea'"
      ]
     },
     "execution_count": 139,
     "metadata": {},
     "output_type": "execute_result"
    }
   ],
   "source": [
    "coffee1.cheapest_item()"
   ]
  },
  {
   "cell_type": "code",
   "execution_count": 140,
   "id": "d2e7ebfa-8a8c-4770-8af7-418a14303ce2",
   "metadata": {},
   "outputs": [
    {
     "data": {
      "text/plain": [
       "['Coffee', 'Tea', 'Juice']"
      ]
     },
     "execution_count": 140,
     "metadata": {},
     "output_type": "execute_result"
    }
   ],
   "source": [
    "coffee1.drinks_only()"
   ]
  },
  {
   "cell_type": "code",
   "execution_count": 141,
   "id": "a88813e7-5725-4068-9229-8f98a3ecfebd",
   "metadata": {},
   "outputs": [
    {
     "data": {
      "text/plain": [
       "['Burger', 'Pizza']"
      ]
     },
     "execution_count": 141,
     "metadata": {},
     "output_type": "execute_result"
    }
   ],
   "source": [
    "coffee1.food_only()"
   ]
  },
  {
   "cell_type": "code",
   "execution_count": 142,
   "id": "930f9fc6-89bf-49c3-9650-d5014db8f303",
   "metadata": {},
   "outputs": [
    {
     "data": {
      "text/plain": [
       "135.0"
      ]
     },
     "execution_count": 142,
     "metadata": {},
     "output_type": "execute_result"
    }
   ],
   "source": [
    "coffee1.due_amount()"
   ]
  },
  {
   "cell_type": "code",
   "execution_count": 143,
   "id": "15c1f5e0-277b-4495-abca-95c9b59f455f",
   "metadata": {},
   "outputs": [
    {
     "data": {
      "text/plain": [
       "['Coffee', 'Tea', 'Pizza']"
      ]
     },
     "execution_count": 143,
     "metadata": {},
     "output_type": "execute_result"
    }
   ],
   "source": [
    "coffee1.orders"
   ]
  },
  {
   "cell_type": "code",
   "execution_count": 144,
   "id": "d4f7057e-eb12-41fa-8632-3489f1315070",
   "metadata": {},
   "outputs": [],
   "source": [
    "coffee1.add_order(\"Pizza\")"
   ]
  },
  {
   "cell_type": "code",
   "execution_count": 145,
   "id": "9400bddc-0397-484d-917a-608ecf766673",
   "metadata": {},
   "outputs": [
    {
     "data": {
      "text/plain": [
       "['Coffee', 'Tea', 'Pizza', 'Pizza']"
      ]
     },
     "execution_count": 145,
     "metadata": {},
     "output_type": "execute_result"
    }
   ],
   "source": [
    "coffee1.orders"
   ]
  },
  {
   "cell_type": "code",
   "execution_count": 146,
   "id": "b5957b83-0710-4fca-8ce6-982bf919ffc3",
   "metadata": {},
   "outputs": [
    {
     "data": {
      "text/plain": [
       "235.0"
      ]
     },
     "execution_count": 146,
     "metadata": {},
     "output_type": "execute_result"
    }
   ],
   "source": [
    "coffee1.due_amount()"
   ]
  },
  {
   "cell_type": "code",
   "execution_count": 147,
   "id": "159392e7-eb53-48d7-b15e-f6dad6509d0c",
   "metadata": {},
   "outputs": [
    {
     "data": {
      "text/plain": [
       "['Coffee', 'Tea', 'Pizza', 'Pizza']"
      ]
     },
     "execution_count": 147,
     "metadata": {},
     "output_type": "execute_result"
    }
   ],
   "source": [
    "coffee1.list_orders()"
   ]
  },
  {
   "cell_type": "code",
   "execution_count": 148,
   "id": "2d92d2a3-dbbf-4161-90dc-8f640af49204",
   "metadata": {},
   "outputs": [
    {
     "name": "stdout",
     "output_type": "stream",
     "text": [
      "Order fulfilled: Coffee\n"
     ]
    }
   ],
   "source": [
    "coffee1.fulfill_order()"
   ]
  },
  {
   "cell_type": "code",
   "execution_count": 149,
   "id": "be39b592-9381-470b-b8a1-d738301d288e",
   "metadata": {},
   "outputs": [
    {
     "data": {
      "text/plain": [
       "['Tea', 'Pizza', 'Pizza']"
      ]
     },
     "execution_count": 149,
     "metadata": {},
     "output_type": "execute_result"
    }
   ],
   "source": [
    "coffee1.list_orders()"
   ]
  },
  {
   "cell_type": "code",
   "execution_count": 150,
   "id": "3e62a252-3986-4e84-9ed7-585b11b83469",
   "metadata": {},
   "outputs": [
    {
     "name": "stdout",
     "output_type": "stream",
     "text": [
      "Order fulfilled: Tea\n"
     ]
    }
   ],
   "source": [
    "coffee1.fulfill_order()"
   ]
  },
  {
   "cell_type": "code",
   "execution_count": 151,
   "id": "58a9d7b8-9daa-437b-bec4-c6d05a9812e7",
   "metadata": {},
   "outputs": [
    {
     "data": {
      "text/plain": [
       "['Pizza', 'Pizza']"
      ]
     },
     "execution_count": 151,
     "metadata": {},
     "output_type": "execute_result"
    }
   ],
   "source": [
    "coffee1.list_orders()"
   ]
  },
  {
   "cell_type": "code",
   "execution_count": 152,
   "id": "cfed02ae-6c54-4180-98a3-f8a6b1487bac",
   "metadata": {},
   "outputs": [
    {
     "name": "stdout",
     "output_type": "stream",
     "text": [
      "Order fulfilled: Pizza\n"
     ]
    }
   ],
   "source": [
    "coffee1.fulfill_order()"
   ]
  },
  {
   "cell_type": "code",
   "execution_count": 153,
   "id": "89da4207-ad27-4f68-90e8-8503611bac10",
   "metadata": {},
   "outputs": [
    {
     "data": {
      "text/plain": [
       "['Pizza']"
      ]
     },
     "execution_count": 153,
     "metadata": {},
     "output_type": "execute_result"
    }
   ],
   "source": [
    "coffee1.list_orders()"
   ]
  },
  {
   "cell_type": "code",
   "execution_count": 154,
   "id": "2d390e78-2ff0-4d58-bae4-6e79dc92b52d",
   "metadata": {},
   "outputs": [
    {
     "name": "stdout",
     "output_type": "stream",
     "text": [
      "Order fulfilled: Pizza\n"
     ]
    }
   ],
   "source": [
    "coffee1.fulfill_order()"
   ]
  },
  {
   "cell_type": "code",
   "execution_count": 155,
   "id": "5225ddb4-6b65-4924-8946-443a0b6d01c4",
   "metadata": {},
   "outputs": [
    {
     "data": {
      "text/plain": [
       "'Tea'"
      ]
     },
     "execution_count": 155,
     "metadata": {},
     "output_type": "execute_result"
    }
   ],
   "source": [
    "coffee1.cheapest_item()"
   ]
  },
  {
   "cell_type": "code",
   "execution_count": null,
   "id": "1206b523-6bee-42c9-8348-f0dcff251716",
   "metadata": {},
   "outputs": [],
   "source": []
  },
  {
   "cell_type": "code",
   "execution_count": null,
   "id": "82e299aa-0354-4c20-88ae-79b6b2583703",
   "metadata": {},
   "outputs": [],
   "source": []
  }
 ],
 "metadata": {
  "kernelspec": {
   "display_name": "Python 3 (ipykernel)",
   "language": "python",
   "name": "python3"
  },
  "language_info": {
   "codemirror_mode": {
    "name": "ipython",
    "version": 3
   },
   "file_extension": ".py",
   "mimetype": "text/x-python",
   "name": "python",
   "nbconvert_exporter": "python",
   "pygments_lexer": "ipython3",
   "version": "3.11.7"
  }
 },
 "nbformat": 4,
 "nbformat_minor": 5
}
