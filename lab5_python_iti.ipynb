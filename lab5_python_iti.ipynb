{
 "cells": [
  {
   "cell_type": "markdown",
   "id": "8138ec80-a743-4191-b610-cecba5033bc9",
   "metadata": {},
   "source": [
    "# Problem 1: File Reader with Exception Handling\n"
   ]
  },
  {
   "cell_type": "code",
   "execution_count": 1,
   "id": "d30e58ec-5a38-4fe4-be94-c4511d84c262",
   "metadata": {},
   "outputs": [],
   "source": [
    "from pathlib import Path"
   ]
  },
  {
   "cell_type": "code",
   "execution_count": 9,
   "id": "6d5e0c6b-25e7-4425-bb33-a76ff90c200a",
   "metadata": {},
   "outputs": [],
   "source": [
    "def file_reader():\n",
    "    while True:\n",
    "        try:\n",
    "            file_name = input(\"Enter file name: \")\n",
    "            path = Path(file_name)\n",
    "            contents = path.read_text()\n",
    "        except FileNotFoundError:\n",
    "            print(f\"Error: File {file_name} not found.\")\n",
    "            answer = input(\"Would you like to try again? (yes/no): \")\n",
    "            if answer == \"yes\":\n",
    "                continue\n",
    "            else:\n",
    "                break\n",
    "        else:\n",
    "            print(contents)\n",
    "            break"
   ]
  },
  {
   "cell_type": "code",
   "execution_count": 44,
   "id": "0f925105-24e5-4d53-b20c-5d3ae0fda101",
   "metadata": {},
   "outputs": [
    {
     "name": "stdin",
     "output_type": "stream",
     "text": [
      "Enter file name:  hell\n"
     ]
    },
    {
     "name": "stdout",
     "output_type": "stream",
     "text": [
      "Error: File hell not found.\n"
     ]
    },
    {
     "name": "stdin",
     "output_type": "stream",
     "text": [
      "Would you like to try again? (yes/no):  yes\n",
      "Enter file name:  hell\n"
     ]
    },
    {
     "name": "stdout",
     "output_type": "stream",
     "text": [
      "Error: File hell not found.\n"
     ]
    },
    {
     "name": "stdin",
     "output_type": "stream",
     "text": [
      "Would you like to try again? (yes/no):  hell\n"
     ]
    }
   ],
   "source": [
    "file_reader()"
   ]
  },
  {
   "cell_type": "markdown",
   "id": "0e6f89da-e898-45eb-9778-1ac054fa2ced",
   "metadata": {},
   "source": [
    "# Problem 2: Write Data to a File\n"
   ]
  },
  {
   "cell_type": "code",
   "execution_count": 3,
   "id": "415598b9-f9d6-4302-9035-09548c659662",
   "metadata": {},
   "outputs": [],
   "source": [
    "def Write_to_file():\n",
    "    try:\n",
    "        file_name = input(\"Enter file name: \")\n",
    "        your_text = input(\"Enter text to save: \")\n",
    "        path = Path(file_name)\n",
    "        path.write_text(your_text)\n",
    "    except permissionError:\n",
    "        print(f\"Error: Permission denied to write to {file_name}.\")\n",
    "    else:\n",
    "        print(f\"Data saved successfully to {file_name}.\")\n",
    "        print(f\"Contents of {file_name}:\")\n",
    "        print(your_text)"
   ]
  },
  {
   "cell_type": "code",
   "execution_count": 49,
   "id": "8fbfdd2c-3bb6-42be-a4e7-7fe9e7ade4ac",
   "metadata": {},
   "outputs": [
    {
     "name": "stdin",
     "output_type": "stream",
     "text": [
      "Enter file name:  iti.txt\n",
      "Enter text to save:    hello\n"
     ]
    },
    {
     "name": "stdout",
     "output_type": "stream",
     "text": [
      "Data saved successfully to iti.txt.\n",
      "Contents of iti.txt:\n",
      "  hello\n"
     ]
    }
   ],
   "source": [
    "Write_to_file()"
   ]
  },
  {
   "cell_type": "markdown",
   "id": "0981b8ae-caf7-4627-aaa6-7cf54c266295",
   "metadata": {},
   "source": [
    "# Problem 3: Store Data in JSON Format"
   ]
  },
  {
   "cell_type": "code",
   "execution_count": 4,
   "id": "ea5603e1-fa21-4b4a-8af7-e16afe356daf",
   "metadata": {},
   "outputs": [],
   "source": [
    "import json"
   ]
  },
  {
   "cell_type": "code",
   "execution_count": 5,
   "id": "ae88a1a7-01d4-4fdc-b45f-bf0d8927fa97",
   "metadata": {},
   "outputs": [],
   "source": [
    " data = {\n",
    "          \"name\": \"Alice\",\n",
    "          \"age\": 25,\n",
    "          \"city\": \"New York\"}"
   ]
  },
  {
   "cell_type": "code",
   "execution_count": 6,
   "id": "ace2bcc4-a89c-44c6-b3a5-9b3aa0c9b92a",
   "metadata": {},
   "outputs": [],
   "source": [
    "def write_to_json():\n",
    "    try:\n",
    "        file_name = input(\"Enter file name: \")\n",
    "        your_data = input(\"Enter data to save: \")\n",
    "        path = Path(file_name)\n",
    "        contents = json.dumps(your_data)\n",
    "        path.write_text(contents)\n",
    "    except IOError:\n",
    "        pass\n",
    "    else:\n",
    "        print(f\"Data saved successfully to {file_name}.\")\n",
    "        print(f\"Contents of {file_name}:\")\n",
    "        print(your_data)\n",
    "        "
   ]
  },
  {
   "cell_type": "code",
   "execution_count": 59,
   "id": "3c26ebf9-8391-4b3f-8201-149b468a1463",
   "metadata": {},
   "outputs": [
    {
     "name": "stdin",
     "output_type": "stream",
     "text": [
      "Enter file name:  data.json\n",
      "Enter data to save:  {           \"name\": \"Alice\",           \"age\": 25,           \"city\": \"New York\"}\n"
     ]
    },
    {
     "name": "stdout",
     "output_type": "stream",
     "text": [
      "Data saved successfully to data.json.\n",
      "Contents of data.json:\n",
      "{           \"name\": \"Alice\",           \"age\": 25,           \"city\": \"New York\"}\n"
     ]
    }
   ],
   "source": [
    "write_to_json()"
   ]
  },
  {
   "cell_type": "markdown",
   "id": "50619903-7793-4020-a715-04a52fbc05b2",
   "metadata": {},
   "source": [
    "# Problem 4: Complete Workflow"
   ]
  },
  {
   "cell_type": "code",
   "execution_count": 7,
   "id": "50f56807-5e3c-4e2a-a341-8e7578b63a0b",
   "metadata": {},
   "outputs": [],
   "source": [
    "def workflow():\n",
    "    while True:\n",
    "        print(\"Main Menu:\\n1. Read a file\\n2. Write to a file\\n3. Save data to JSON\\n4. Exit\" )\n",
    "        your_choose = int(input(\"Choose an option: \"))\n",
    "        if your_choose == 1:\n",
    "            file_reader()\n",
    "        elif your_choose == 2:\n",
    "            Write_to_file()\n",
    "        elif your_choose == 3:\n",
    "            write_to_json()\n",
    "        elif your_choose == 4:\n",
    "            print(\"Goodbye!\")\n",
    "            break"
   ]
  },
  {
   "cell_type": "code",
   "execution_count": 10,
   "id": "ab84f17c-c560-4df1-a05b-5a766965fdd6",
   "metadata": {},
   "outputs": [
    {
     "name": "stdout",
     "output_type": "stream",
     "text": [
      "Main Menu:\n",
      "1. Read a file\n",
      "2. Write to a file\n",
      "3. Save data to JSON\n",
      "4. Exit\n"
     ]
    },
    {
     "name": "stdin",
     "output_type": "stream",
     "text": [
      "Choose an option:  1\n",
      "Enter file name:  iti.txt\n"
     ]
    },
    {
     "name": "stdout",
     "output_type": "stream",
     "text": [
      "  hello\n",
      "Main Menu:\n",
      "1. Read a file\n",
      "2. Write to a file\n",
      "3. Save data to JSON\n",
      "4. Exit\n"
     ]
    },
    {
     "name": "stdin",
     "output_type": "stream",
     "text": [
      "Choose an option:  2\n",
      "Enter file name:  belal.txt\n",
      "Enter text to save:  my name is belal\n"
     ]
    },
    {
     "name": "stdout",
     "output_type": "stream",
     "text": [
      "Data saved successfully to belal.txt.\n",
      "Contents of belal.txt:\n",
      "my name is belal\n",
      "Main Menu:\n",
      "1. Read a file\n",
      "2. Write to a file\n",
      "3. Save data to JSON\n",
      "4. Exit\n"
     ]
    },
    {
     "name": "stdin",
     "output_type": "stream",
     "text": [
      "Choose an option:  4\n"
     ]
    },
    {
     "name": "stdout",
     "output_type": "stream",
     "text": [
      "Goodbye!\n"
     ]
    }
   ],
   "source": [
    "workflow()"
   ]
  },
  {
   "cell_type": "code",
   "execution_count": null,
   "id": "522a866b-a2ab-4c25-ae51-bff060b91fcb",
   "metadata": {},
   "outputs": [],
   "source": []
  },
  {
   "cell_type": "markdown",
   "id": "b841be54-418b-4516-9c1b-f4d341d03921",
   "metadata": {},
   "source": [
    "# Problem 5: Validate User Inputs"
   ]
  },
  {
   "cell_type": "code",
   "execution_count": 17,
   "id": "11c588cc-bf17-4f6b-bd83-52670adebd7e",
   "metadata": {},
   "outputs": [],
   "source": [
    "import re\n",
    "\n",
    "class Alpha_error(Exception):\n",
    "    pass\n",
    "    \n",
    "class Email_error(Exception):\n",
    "    pass\n",
    "name_valide = False\n",
    "age_valide = False\n",
    "email_valide = False\n",
    "def validate_inputs():\n",
    "    #name loop\n",
    "    while True:\n",
    "        try:\n",
    "            name = input(\"Enter your name: \")\n",
    "            if name.isalpha() :\n",
    "                pass\n",
    "            else:\n",
    "                raise Alpha_error(\"name must be in alpha!\")\n",
    "        except Alpha_error:\n",
    "             print(\"Enter a valid name\")\n",
    "             continue\n",
    "        else:\n",
    "            name_valide =True\n",
    "            break\n",
    "\n",
    "    #age loop\n",
    "    while True:\n",
    "        try:\n",
    "            age = int(input(\"Enter your age: \"))\n",
    "            if  age > 0:\n",
    "                pass\n",
    "            else:\n",
    "                raise ValueError\n",
    "        except ValueError: \n",
    "            print(\"Error: Age must be a valid integer.\")\n",
    "        else:\n",
    "            age_valide = True\n",
    "            break\n",
    "\n",
    "    # email loop\n",
    "    while True:\n",
    "        try:\n",
    "            email = input(\"Enter your email: \")\n",
    "            email_pattern = r'^[a-zA-Z0-9._%+-]+@[a-zA-Z0-9.-]+\\.[a-zA-Z]{2,}$'\n",
    "            if re.match(email_pattern, email):\n",
    "                pass\n",
    "            else:\n",
    "                raise Email_error(\"Email does not match pattern\")\n",
    "        except Email_error:\n",
    "            print(\"Email does not match pattern\")\n",
    "        else:\n",
    "            email_valide = True\n",
    "            break\n",
    "\n",
    "    if name_valide and age_valide and email_valide:\n",
    "        print(\"Validated Data:\")\n",
    "        print(f\"name: {name}\")\n",
    "        print(f\"age: {age}\")\n",
    "        print(f\"email: {email}\")\n",
    "        \n",
    "    "
   ]
  },
  {
   "cell_type": "code",
   "execution_count": 19,
   "id": "c3cd5528-d7da-43d2-a781-1477c52bfcac",
   "metadata": {},
   "outputs": [
    {
     "name": "stdin",
     "output_type": "stream",
     "text": [
      "Enter your name:  2378o\n"
     ]
    },
    {
     "name": "stdout",
     "output_type": "stream",
     "text": [
      "Enter a valid name\n"
     ]
    },
    {
     "name": "stdin",
     "output_type": "stream",
     "text": [
      "Enter your name:  belal\n",
      "Enter your age:  sdfghj\n"
     ]
    },
    {
     "name": "stdout",
     "output_type": "stream",
     "text": [
      "Error: Age must be a valid integer.\n"
     ]
    },
    {
     "name": "stdin",
     "output_type": "stream",
     "text": [
      "Enter your age:  24\n",
      "Enter your email:  -9\n"
     ]
    },
    {
     "name": "stdout",
     "output_type": "stream",
     "text": [
      "Email does not match pattern\n"
     ]
    },
    {
     "name": "stdin",
     "output_type": "stream",
     "text": [
      "Enter your email:  belal@gmail.com\n"
     ]
    },
    {
     "name": "stdout",
     "output_type": "stream",
     "text": [
      "Validated Data:\n",
      "name: belal\n",
      "age: 24\n",
      "email: belal@gmail.com\n"
     ]
    }
   ],
   "source": [
    "validate_inputs()"
   ]
  },
  {
   "cell_type": "code",
   "execution_count": 1,
   "id": "d18080b4-aa25-45bc-9887-87ba33c699c7",
   "metadata": {},
   "outputs": [
    {
     "data": {
      "text/plain": [
       "'C:\\\\Users\\\\Lap Shop'"
      ]
     },
     "execution_count": 1,
     "metadata": {},
     "output_type": "execute_result"
    }
   ],
   "source": [
    "%pwd"
   ]
  },
  {
   "cell_type": "code",
   "execution_count": null,
   "id": "12c491ac-df2b-41a6-9f71-93d8c2a745e5",
   "metadata": {},
   "outputs": [],
   "source": []
  },
  {
   "cell_type": "code",
   "execution_count": null,
   "id": "9da1ae93-aa78-4066-b5f4-c62766c0812e",
   "metadata": {},
   "outputs": [],
   "source": []
  }
 ],
 "metadata": {
  "kernelspec": {
   "display_name": "Python 3 (ipykernel)",
   "language": "python",
   "name": "python3"
  },
  "language_info": {
   "codemirror_mode": {
    "name": "ipython",
    "version": 3
   },
   "file_extension": ".py",
   "mimetype": "text/x-python",
   "name": "python",
   "nbconvert_exporter": "python",
   "pygments_lexer": "ipython3",
   "version": "3.11.7"
  }
 },
 "nbformat": 4,
 "nbformat_minor": 5
}
